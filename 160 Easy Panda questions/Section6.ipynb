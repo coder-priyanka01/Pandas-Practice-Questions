{
 "cells": [
  {
   "cell_type": "markdown",
   "id": "01de0d30-f0c6-42d6-937d-d717fbd90970",
   "metadata": {},
   "source": [
    "## Handling Missing Data "
   ]
  },
  {
   "cell_type": "code",
   "execution_count": 51,
   "id": "03eabb57-9564-4f5f-8069-6cda1fe2b635",
   "metadata": {},
   "outputs": [
    {
     "name": "stdout",
     "output_type": "stream",
     "text": [
      "           Name  Age      City   Salary\n",
      "row1      Alice   25  New York  50000.0\n",
      "row2        NaN   30    London      NaN\n",
      "row3    Charlie   35     Paris  55000.0\n",
      "row4      David   40  New York  70000.0\n",
      "row5        Eva   22       NaN  65000.0\n",
      "row6      Mayra   18    Moscow  72000.0\n",
      "row7   Priyanka   19    Berlin  80000.0\n"
     ]
    }
   ],
   "source": [
    "import pandas as pd\n",
    "import numpy as np\n",
    "\n",
    "# Base DataFrame\n",
    "data = {\n",
    "    'Name': ['Alice', np.nan, 'Charlie', 'David', 'Eva', 'Mayra',' Priyanka'],\n",
    "    'Age': [25, 30, 35, 40, 22, 18, 19],\n",
    "    'City': ['New York', 'London', 'Paris', 'New York', np.nan, 'Moscow', 'Berlin'],\n",
    "    'Salary': [50000, np.nan, 55000, 70000, 65000, 72000, 80000]\n",
    "}\n",
    "df = pd.DataFrame(data, index=['row1', 'row2', 'row3', 'row4', 'row5', 'row6','row7'])\n",
    "print(df)"
   ]
  },
  {
   "cell_type": "code",
   "execution_count": 52,
   "id": "d2c332a6-8a3b-4c61-bc0b-d278ecc92b0c",
   "metadata": {},
   "outputs": [
    {
     "data": {
      "text/plain": [
       "True"
      ]
     },
     "execution_count": 52,
     "metadata": {},
     "output_type": "execute_result"
    }
   ],
   "source": [
    "# 61. Check for any missing values: Pata karein ki DataFrame mein koi missing value hai ya nahi (True/False return karega).\n",
    "df.isnull().values.any()"
   ]
  },
  {
   "cell_type": "code",
   "execution_count": 53,
   "id": "4a2cf7e5-8a5e-4f14-a967-9cb8c3e1795f",
   "metadata": {},
   "outputs": [
    {
     "data": {
      "text/plain": [
       "Name      1\n",
       "Age       0\n",
       "City      1\n",
       "Salary    1\n",
       "dtype: int64"
      ]
     },
     "execution_count": 53,
     "metadata": {},
     "output_type": "execute_result"
    }
   ],
   "source": [
    "# 62. Count missing values in each column: Har column mein kitni NaN values hain, unki ginti karein.\n",
    "df.isnull().sum()"
   ]
  },
  {
   "cell_type": "code",
   "execution_count": 54,
   "id": "cbed2547-db77-4d83-9153-3ab78a647620",
   "metadata": {},
   "outputs": [
    {
     "data": {
      "text/plain": [
       "3"
      ]
     },
     "execution_count": 54,
     "metadata": {},
     "output_type": "execute_result"
    }
   ],
   "source": [
    "# 63. Sum all missing values: Poore DataFrame mein total kitni NaN values hain, unka sum nikalen.\n",
    "df.isnull().sum().sum()"
   ]
  },
  {
   "cell_type": "code",
   "execution_count": 55,
   "id": "c885a1ff-288c-4c3d-84fb-4236b35d4d28",
   "metadata": {},
   "outputs": [
    {
     "data": {
      "text/html": [
       "<div>\n",
       "<style scoped>\n",
       "    .dataframe tbody tr th:only-of-type {\n",
       "        vertical-align: middle;\n",
       "    }\n",
       "\n",
       "    .dataframe tbody tr th {\n",
       "        vertical-align: top;\n",
       "    }\n",
       "\n",
       "    .dataframe thead th {\n",
       "        text-align: right;\n",
       "    }\n",
       "</style>\n",
       "<table border=\"1\" class=\"dataframe\">\n",
       "  <thead>\n",
       "    <tr style=\"text-align: right;\">\n",
       "      <th></th>\n",
       "      <th>Name</th>\n",
       "      <th>Age</th>\n",
       "      <th>City</th>\n",
       "      <th>Salary</th>\n",
       "    </tr>\n",
       "  </thead>\n",
       "  <tbody>\n",
       "    <tr>\n",
       "      <th>row1</th>\n",
       "      <td>Alice</td>\n",
       "      <td>25</td>\n",
       "      <td>New York</td>\n",
       "      <td>50000.0</td>\n",
       "    </tr>\n",
       "    <tr>\n",
       "      <th>row3</th>\n",
       "      <td>Charlie</td>\n",
       "      <td>35</td>\n",
       "      <td>Paris</td>\n",
       "      <td>55000.0</td>\n",
       "    </tr>\n",
       "    <tr>\n",
       "      <th>row4</th>\n",
       "      <td>David</td>\n",
       "      <td>40</td>\n",
       "      <td>New York</td>\n",
       "      <td>70000.0</td>\n",
       "    </tr>\n",
       "    <tr>\n",
       "      <th>row6</th>\n",
       "      <td>Mayra</td>\n",
       "      <td>18</td>\n",
       "      <td>Moscow</td>\n",
       "      <td>72000.0</td>\n",
       "    </tr>\n",
       "    <tr>\n",
       "      <th>row7</th>\n",
       "      <td>Priyanka</td>\n",
       "      <td>19</td>\n",
       "      <td>Berlin</td>\n",
       "      <td>80000.0</td>\n",
       "    </tr>\n",
       "  </tbody>\n",
       "</table>\n",
       "</div>"
      ],
      "text/plain": [
       "           Name  Age      City   Salary\n",
       "row1      Alice   25  New York  50000.0\n",
       "row3    Charlie   35     Paris  55000.0\n",
       "row4      David   40  New York  70000.0\n",
       "row6      Mayra   18    Moscow  72000.0\n",
       "row7   Priyanka   19    Berlin  80000.0"
      ]
     },
     "execution_count": 55,
     "metadata": {},
     "output_type": "execute_result"
    }
   ],
   "source": [
    "# 64. Drop rows with any missing values: dropna() ka use karke un sabhi rows ko hatayein jinmein kam se kam ek missing value ho. \n",
    "df.dropna()"
   ]
  },
  {
   "cell_type": "code",
   "execution_count": 56,
   "id": "3ede174f-62cf-46aa-80ab-b25e48d1506a",
   "metadata": {},
   "outputs": [
    {
     "data": {
      "text/html": [
       "<div>\n",
       "<style scoped>\n",
       "    .dataframe tbody tr th:only-of-type {\n",
       "        vertical-align: middle;\n",
       "    }\n",
       "\n",
       "    .dataframe tbody tr th {\n",
       "        vertical-align: top;\n",
       "    }\n",
       "\n",
       "    .dataframe thead th {\n",
       "        text-align: right;\n",
       "    }\n",
       "</style>\n",
       "<table border=\"1\" class=\"dataframe\">\n",
       "  <thead>\n",
       "    <tr style=\"text-align: right;\">\n",
       "      <th></th>\n",
       "      <th>Age</th>\n",
       "    </tr>\n",
       "  </thead>\n",
       "  <tbody>\n",
       "    <tr>\n",
       "      <th>row1</th>\n",
       "      <td>25</td>\n",
       "    </tr>\n",
       "    <tr>\n",
       "      <th>row2</th>\n",
       "      <td>30</td>\n",
       "    </tr>\n",
       "    <tr>\n",
       "      <th>row3</th>\n",
       "      <td>35</td>\n",
       "    </tr>\n",
       "    <tr>\n",
       "      <th>row4</th>\n",
       "      <td>40</td>\n",
       "    </tr>\n",
       "    <tr>\n",
       "      <th>row5</th>\n",
       "      <td>22</td>\n",
       "    </tr>\n",
       "    <tr>\n",
       "      <th>row6</th>\n",
       "      <td>18</td>\n",
       "    </tr>\n",
       "    <tr>\n",
       "      <th>row7</th>\n",
       "      <td>19</td>\n",
       "    </tr>\n",
       "  </tbody>\n",
       "</table>\n",
       "</div>"
      ],
      "text/plain": [
       "      Age\n",
       "row1   25\n",
       "row2   30\n",
       "row3   35\n",
       "row4   40\n",
       "row5   22\n",
       "row6   18\n",
       "row7   19"
      ]
     },
     "execution_count": 56,
     "metadata": {},
     "output_type": "execute_result"
    }
   ],
   "source": [
    "# 65. Drop columns with any missing values: Un sabhi columns ko hatayein jinmein kam se kam ek missing value ho. \n",
    "df.dropna(axis=1)"
   ]
  },
  {
   "cell_type": "code",
   "execution_count": 58,
   "id": "ff0f2861-82cb-4b28-92c8-85f8f7a7c47a",
   "metadata": {},
   "outputs": [
    {
     "data": {
      "text/html": [
       "<div>\n",
       "<style scoped>\n",
       "    .dataframe tbody tr th:only-of-type {\n",
       "        vertical-align: middle;\n",
       "    }\n",
       "\n",
       "    .dataframe tbody tr th {\n",
       "        vertical-align: top;\n",
       "    }\n",
       "\n",
       "    .dataframe thead th {\n",
       "        text-align: right;\n",
       "    }\n",
       "</style>\n",
       "<table border=\"1\" class=\"dataframe\">\n",
       "  <thead>\n",
       "    <tr style=\"text-align: right;\">\n",
       "      <th></th>\n",
       "      <th>Name</th>\n",
       "      <th>Age</th>\n",
       "      <th>City</th>\n",
       "      <th>Salary</th>\n",
       "    </tr>\n",
       "  </thead>\n",
       "  <tbody>\n",
       "    <tr>\n",
       "      <th>row1</th>\n",
       "      <td>Alice</td>\n",
       "      <td>25</td>\n",
       "      <td>New York</td>\n",
       "      <td>50000.0</td>\n",
       "    </tr>\n",
       "    <tr>\n",
       "      <th>row2</th>\n",
       "      <td>0</td>\n",
       "      <td>30</td>\n",
       "      <td>London</td>\n",
       "      <td>0.0</td>\n",
       "    </tr>\n",
       "    <tr>\n",
       "      <th>row3</th>\n",
       "      <td>Charlie</td>\n",
       "      <td>35</td>\n",
       "      <td>Paris</td>\n",
       "      <td>55000.0</td>\n",
       "    </tr>\n",
       "    <tr>\n",
       "      <th>row4</th>\n",
       "      <td>David</td>\n",
       "      <td>40</td>\n",
       "      <td>New York</td>\n",
       "      <td>70000.0</td>\n",
       "    </tr>\n",
       "    <tr>\n",
       "      <th>row5</th>\n",
       "      <td>Eva</td>\n",
       "      <td>22</td>\n",
       "      <td>0</td>\n",
       "      <td>65000.0</td>\n",
       "    </tr>\n",
       "    <tr>\n",
       "      <th>row6</th>\n",
       "      <td>Mayra</td>\n",
       "      <td>18</td>\n",
       "      <td>Moscow</td>\n",
       "      <td>72000.0</td>\n",
       "    </tr>\n",
       "    <tr>\n",
       "      <th>row7</th>\n",
       "      <td>Priyanka</td>\n",
       "      <td>19</td>\n",
       "      <td>Berlin</td>\n",
       "      <td>80000.0</td>\n",
       "    </tr>\n",
       "  </tbody>\n",
       "</table>\n",
       "</div>"
      ],
      "text/plain": [
       "           Name  Age      City   Salary\n",
       "row1      Alice   25  New York  50000.0\n",
       "row2          0   30    London      0.0\n",
       "row3    Charlie   35     Paris  55000.0\n",
       "row4      David   40  New York  70000.0\n",
       "row5        Eva   22         0  65000.0\n",
       "row6      Mayra   18    Moscow  72000.0\n",
       "row7   Priyanka   19    Berlin  80000.0"
      ]
     },
     "execution_count": 58,
     "metadata": {},
     "output_type": "execute_result"
    }
   ],
   "source": [
    "# 66. Fill missing values with a specific value: Sabhi NaN values ko 0 se fill karein.\n",
    "df.fillna(0)"
   ]
  },
  {
   "cell_type": "code",
   "execution_count": 59,
   "id": "e25b17bf-24d0-4fc2-b066-d51e8c734757",
   "metadata": {},
   "outputs": [
    {
     "data": {
      "text/plain": [
       "row1    25\n",
       "row2    30\n",
       "row3    35\n",
       "row4    40\n",
       "row5    22\n",
       "row6    18\n",
       "row7    19\n",
       "Name: Age, dtype: int64"
      ]
     },
     "execution_count": 59,
     "metadata": {},
     "output_type": "execute_result"
    }
   ],
   "source": [
    "# 67. Fill missing values with the mean: 'Age' column ke NaN values ko usi column ke mean (average) se fill karein. \n",
    "df['Age'].fillna(df['Age'].mean(), inplace=False)"
   ]
  },
  {
   "cell_type": "code",
   "execution_count": 60,
   "id": "781bcc8e-cd5e-4ac4-968a-080d9f3e313f",
   "metadata": {},
   "outputs": [
    {
     "data": {
      "text/plain": [
       "row1    50000.0\n",
       "row2    67500.0\n",
       "row3    55000.0\n",
       "row4    70000.0\n",
       "row5    65000.0\n",
       "row6    72000.0\n",
       "row7    80000.0\n",
       "Name: Salary, dtype: float64"
      ]
     },
     "execution_count": 60,
     "metadata": {},
     "output_type": "execute_result"
    }
   ],
   "source": [
    "# 68. Fill missing values with the median: 'Salary' column ke NaN values ko usi column ke median se fill karein.\n",
    "df['Salary'].fillna(df['Salary'].median(), inplace=False)"
   ]
  },
  {
   "cell_type": "code",
   "execution_count": 61,
   "id": "a52bcc89-9fed-42cf-9ce7-28bacb8d47dc",
   "metadata": {},
   "outputs": [
    {
     "data": {
      "text/plain": [
       "row1    New York\n",
       "row2      London\n",
       "row3       Paris\n",
       "row4    New York\n",
       "row5    New York\n",
       "row6      Moscow\n",
       "row7      Berlin\n",
       "Name: City, dtype: object"
      ]
     },
     "execution_count": 61,
     "metadata": {},
     "output_type": "execute_result"
    }
   ],
   "source": [
    "# 69. Fill missing values with the mode: 'City' column ke NaN values ko usi column ke mode (sabse zyada aane wali value) se fill karein.\n",
    "df['City'].fillna(df['City'].mode().iloc[0], inplace=False)"
   ]
  },
  {
   "cell_type": "code",
   "execution_count": 67,
   "id": "52ec2f66-ce3d-420d-8ec3-59cc15511264",
   "metadata": {},
   "outputs": [
    {
     "name": "stderr",
     "output_type": "stream",
     "text": [
      "C:\\Users\\babur\\AppData\\Local\\Temp\\ipykernel_15416\\3360353431.py:2: FutureWarning: DataFrame.fillna with 'method' is deprecated and will raise in a future version. Use obj.ffill() or obj.bfill() instead.\n",
      "  df.fillna(method='ffill')\n"
     ]
    },
    {
     "data": {
      "text/html": [
       "<div>\n",
       "<style scoped>\n",
       "    .dataframe tbody tr th:only-of-type {\n",
       "        vertical-align: middle;\n",
       "    }\n",
       "\n",
       "    .dataframe tbody tr th {\n",
       "        vertical-align: top;\n",
       "    }\n",
       "\n",
       "    .dataframe thead th {\n",
       "        text-align: right;\n",
       "    }\n",
       "</style>\n",
       "<table border=\"1\" class=\"dataframe\">\n",
       "  <thead>\n",
       "    <tr style=\"text-align: right;\">\n",
       "      <th></th>\n",
       "      <th>Name</th>\n",
       "      <th>Age</th>\n",
       "      <th>City</th>\n",
       "      <th>Salary</th>\n",
       "    </tr>\n",
       "  </thead>\n",
       "  <tbody>\n",
       "    <tr>\n",
       "      <th>row1</th>\n",
       "      <td>Alice</td>\n",
       "      <td>25</td>\n",
       "      <td>New York</td>\n",
       "      <td>50000.0</td>\n",
       "    </tr>\n",
       "    <tr>\n",
       "      <th>row2</th>\n",
       "      <td>Alice</td>\n",
       "      <td>30</td>\n",
       "      <td>London</td>\n",
       "      <td>50000.0</td>\n",
       "    </tr>\n",
       "    <tr>\n",
       "      <th>row3</th>\n",
       "      <td>Charlie</td>\n",
       "      <td>35</td>\n",
       "      <td>Paris</td>\n",
       "      <td>55000.0</td>\n",
       "    </tr>\n",
       "    <tr>\n",
       "      <th>row4</th>\n",
       "      <td>David</td>\n",
       "      <td>40</td>\n",
       "      <td>New York</td>\n",
       "      <td>70000.0</td>\n",
       "    </tr>\n",
       "    <tr>\n",
       "      <th>row5</th>\n",
       "      <td>Eva</td>\n",
       "      <td>22</td>\n",
       "      <td>New York</td>\n",
       "      <td>65000.0</td>\n",
       "    </tr>\n",
       "    <tr>\n",
       "      <th>row6</th>\n",
       "      <td>Mayra</td>\n",
       "      <td>18</td>\n",
       "      <td>Moscow</td>\n",
       "      <td>72000.0</td>\n",
       "    </tr>\n",
       "    <tr>\n",
       "      <th>row7</th>\n",
       "      <td>Priyanka</td>\n",
       "      <td>19</td>\n",
       "      <td>Berlin</td>\n",
       "      <td>80000.0</td>\n",
       "    </tr>\n",
       "  </tbody>\n",
       "</table>\n",
       "</div>"
      ],
      "text/plain": [
       "           Name  Age      City   Salary\n",
       "row1      Alice   25  New York  50000.0\n",
       "row2      Alice   30    London  50000.0\n",
       "row3    Charlie   35     Paris  55000.0\n",
       "row4      David   40  New York  70000.0\n",
       "row5        Eva   22  New York  65000.0\n",
       "row6      Mayra   18    Moscow  72000.0\n",
       "row7   Priyanka   19    Berlin  80000.0"
      ]
     },
     "execution_count": 67,
     "metadata": {},
     "output_type": "execute_result"
    }
   ],
   "source": [
    "# 70. Forward-fill missing values: fillna() mein method='ffill' ka use karke missing values ko pichli valid value se bharein.\n",
    "df.fillna(method='ffill')"
   ]
  },
  {
   "cell_type": "code",
   "execution_count": 68,
   "id": "e5b30030-d20a-47da-86d1-5168f29cb868",
   "metadata": {},
   "outputs": [
    {
     "name": "stderr",
     "output_type": "stream",
     "text": [
      "C:\\Users\\babur\\AppData\\Local\\Temp\\ipykernel_15416\\482108048.py:2: FutureWarning: DataFrame.fillna with 'method' is deprecated and will raise in a future version. Use obj.ffill() or obj.bfill() instead.\n",
      "  df.fillna(method='bfill')\n"
     ]
    },
    {
     "data": {
      "text/html": [
       "<div>\n",
       "<style scoped>\n",
       "    .dataframe tbody tr th:only-of-type {\n",
       "        vertical-align: middle;\n",
       "    }\n",
       "\n",
       "    .dataframe tbody tr th {\n",
       "        vertical-align: top;\n",
       "    }\n",
       "\n",
       "    .dataframe thead th {\n",
       "        text-align: right;\n",
       "    }\n",
       "</style>\n",
       "<table border=\"1\" class=\"dataframe\">\n",
       "  <thead>\n",
       "    <tr style=\"text-align: right;\">\n",
       "      <th></th>\n",
       "      <th>Name</th>\n",
       "      <th>Age</th>\n",
       "      <th>City</th>\n",
       "      <th>Salary</th>\n",
       "    </tr>\n",
       "  </thead>\n",
       "  <tbody>\n",
       "    <tr>\n",
       "      <th>row1</th>\n",
       "      <td>Alice</td>\n",
       "      <td>25</td>\n",
       "      <td>New York</td>\n",
       "      <td>50000.0</td>\n",
       "    </tr>\n",
       "    <tr>\n",
       "      <th>row2</th>\n",
       "      <td>Charlie</td>\n",
       "      <td>30</td>\n",
       "      <td>London</td>\n",
       "      <td>55000.0</td>\n",
       "    </tr>\n",
       "    <tr>\n",
       "      <th>row3</th>\n",
       "      <td>Charlie</td>\n",
       "      <td>35</td>\n",
       "      <td>Paris</td>\n",
       "      <td>55000.0</td>\n",
       "    </tr>\n",
       "    <tr>\n",
       "      <th>row4</th>\n",
       "      <td>David</td>\n",
       "      <td>40</td>\n",
       "      <td>New York</td>\n",
       "      <td>70000.0</td>\n",
       "    </tr>\n",
       "    <tr>\n",
       "      <th>row5</th>\n",
       "      <td>Eva</td>\n",
       "      <td>22</td>\n",
       "      <td>Moscow</td>\n",
       "      <td>65000.0</td>\n",
       "    </tr>\n",
       "    <tr>\n",
       "      <th>row6</th>\n",
       "      <td>Mayra</td>\n",
       "      <td>18</td>\n",
       "      <td>Moscow</td>\n",
       "      <td>72000.0</td>\n",
       "    </tr>\n",
       "    <tr>\n",
       "      <th>row7</th>\n",
       "      <td>Priyanka</td>\n",
       "      <td>19</td>\n",
       "      <td>Berlin</td>\n",
       "      <td>80000.0</td>\n",
       "    </tr>\n",
       "  </tbody>\n",
       "</table>\n",
       "</div>"
      ],
      "text/plain": [
       "           Name  Age      City   Salary\n",
       "row1      Alice   25  New York  50000.0\n",
       "row2    Charlie   30    London  55000.0\n",
       "row3    Charlie   35     Paris  55000.0\n",
       "row4      David   40  New York  70000.0\n",
       "row5        Eva   22    Moscow  65000.0\n",
       "row6      Mayra   18    Moscow  72000.0\n",
       "row7   Priyanka   19    Berlin  80000.0"
      ]
     },
     "execution_count": 68,
     "metadata": {},
     "output_type": "execute_result"
    }
   ],
   "source": [
    "# 71. Backward-fill missing values: fillna() mein method='bfill' ka use karke missing values ko agli valid value se bharein.\n",
    "df.fillna(method='bfill')"
   ]
  },
  {
   "cell_type": "code",
   "execution_count": 69,
   "id": "560ff0d8-3ddd-4ee8-b448-38fbdd92b152",
   "metadata": {},
   "outputs": [
    {
     "data": {
      "text/html": [
       "<div>\n",
       "<style scoped>\n",
       "    .dataframe tbody tr th:only-of-type {\n",
       "        vertical-align: middle;\n",
       "    }\n",
       "\n",
       "    .dataframe tbody tr th {\n",
       "        vertical-align: top;\n",
       "    }\n",
       "\n",
       "    .dataframe thead th {\n",
       "        text-align: right;\n",
       "    }\n",
       "</style>\n",
       "<table border=\"1\" class=\"dataframe\">\n",
       "  <thead>\n",
       "    <tr style=\"text-align: right;\">\n",
       "      <th></th>\n",
       "      <th>Name</th>\n",
       "      <th>Age</th>\n",
       "      <th>City</th>\n",
       "      <th>Salary</th>\n",
       "    </tr>\n",
       "  </thead>\n",
       "  <tbody>\n",
       "    <tr>\n",
       "      <th>row1</th>\n",
       "      <td>Alice</td>\n",
       "      <td>25</td>\n",
       "      <td>New York</td>\n",
       "      <td>50000.0</td>\n",
       "    </tr>\n",
       "    <tr>\n",
       "      <th>row2</th>\n",
       "      <td>NaN</td>\n",
       "      <td>30</td>\n",
       "      <td>London</td>\n",
       "      <td>NaN</td>\n",
       "    </tr>\n",
       "    <tr>\n",
       "      <th>row3</th>\n",
       "      <td>Charlie</td>\n",
       "      <td>35</td>\n",
       "      <td>Paris</td>\n",
       "      <td>55000.0</td>\n",
       "    </tr>\n",
       "    <tr>\n",
       "      <th>row4</th>\n",
       "      <td>David</td>\n",
       "      <td>40</td>\n",
       "      <td>New York</td>\n",
       "      <td>70000.0</td>\n",
       "    </tr>\n",
       "    <tr>\n",
       "      <th>row5</th>\n",
       "      <td>Eva</td>\n",
       "      <td>22</td>\n",
       "      <td>NaN</td>\n",
       "      <td>65000.0</td>\n",
       "    </tr>\n",
       "    <tr>\n",
       "      <th>row6</th>\n",
       "      <td>Mayra</td>\n",
       "      <td>18</td>\n",
       "      <td>Moscow</td>\n",
       "      <td>72000.0</td>\n",
       "    </tr>\n",
       "    <tr>\n",
       "      <th>row7</th>\n",
       "      <td>Priyanka</td>\n",
       "      <td>19</td>\n",
       "      <td>Berlin</td>\n",
       "      <td>80000.0</td>\n",
       "    </tr>\n",
       "  </tbody>\n",
       "</table>\n",
       "</div>"
      ],
      "text/plain": [
       "           Name  Age      City   Salary\n",
       "row1      Alice   25  New York  50000.0\n",
       "row2        NaN   30    London      NaN\n",
       "row3    Charlie   35     Paris  55000.0\n",
       "row4      David   40  New York  70000.0\n",
       "row5        Eva   22       NaN  65000.0\n",
       "row6      Mayra   18    Moscow  72000.0\n",
       "row7   Priyanka   19    Berlin  80000.0"
      ]
     },
     "execution_count": 69,
     "metadata": {},
     "output_type": "execute_result"
    }
   ],
   "source": [
    "# 72. Drop rows with all missing values: Un rows ko hatayein jinke sabhi values NaN hon.\n",
    "df.dropna(how='all')"
   ]
  },
  {
   "cell_type": "code",
   "execution_count": 70,
   "id": "3accacd6-8595-45b4-b325-f794e69ab8f4",
   "metadata": {},
   "outputs": [
    {
     "data": {
      "text/plain": [
       "row1    False\n",
       "row2    False\n",
       "row3    False\n",
       "row4    False\n",
       "row5    False\n",
       "row6    False\n",
       "row7    False\n",
       "Name: Age, dtype: bool"
      ]
     },
     "execution_count": 70,
     "metadata": {},
     "output_type": "execute_result"
    }
   ],
   "source": [
    "# 73. Check if a value is NaN: isnull() ka use karke pata karein ki 'Age' column ke har element NaN hai ya nahi.\n",
    "df['Age'].isnull()"
   ]
  },
  {
   "cell_type": "code",
   "execution_count": 71,
   "id": "6fc8e51e-7e12-420f-9ff1-159f3522c5d3",
   "metadata": {},
   "outputs": [
    {
     "data": {
      "text/plain": [
       "row1    True\n",
       "row2    True\n",
       "row3    True\n",
       "row4    True\n",
       "row5    True\n",
       "row6    True\n",
       "row7    True\n",
       "Name: Age, dtype: bool"
      ]
     },
     "execution_count": 71,
     "metadata": {},
     "output_type": "execute_result"
    }
   ],
   "source": [
    "# 74. Check if a value is not NaN: notnull() ka use karke pata karein ki 'Age' column ke har element valid hai ya nahi. \n",
    "df['Age'].notnull()"
   ]
  },
  {
   "cell_type": "code",
   "execution_count": 72,
   "id": "97786208-655c-4f7e-8e05-a32f1e54c735",
   "metadata": {},
   "outputs": [
    {
     "data": {
      "text/html": [
       "<div>\n",
       "<style scoped>\n",
       "    .dataframe tbody tr th:only-of-type {\n",
       "        vertical-align: middle;\n",
       "    }\n",
       "\n",
       "    .dataframe tbody tr th {\n",
       "        vertical-align: top;\n",
       "    }\n",
       "\n",
       "    .dataframe thead th {\n",
       "        text-align: right;\n",
       "    }\n",
       "</style>\n",
       "<table border=\"1\" class=\"dataframe\">\n",
       "  <thead>\n",
       "    <tr style=\"text-align: right;\">\n",
       "      <th></th>\n",
       "      <th>Name</th>\n",
       "      <th>Age</th>\n",
       "      <th>City</th>\n",
       "      <th>Salary</th>\n",
       "    </tr>\n",
       "  </thead>\n",
       "  <tbody>\n",
       "    <tr>\n",
       "      <th>row1</th>\n",
       "      <td>Alice</td>\n",
       "      <td>25</td>\n",
       "      <td>New York</td>\n",
       "      <td>50000.0</td>\n",
       "    </tr>\n",
       "    <tr>\n",
       "      <th>row3</th>\n",
       "      <td>Charlie</td>\n",
       "      <td>35</td>\n",
       "      <td>Paris</td>\n",
       "      <td>55000.0</td>\n",
       "    </tr>\n",
       "    <tr>\n",
       "      <th>row4</th>\n",
       "      <td>David</td>\n",
       "      <td>40</td>\n",
       "      <td>New York</td>\n",
       "      <td>70000.0</td>\n",
       "    </tr>\n",
       "    <tr>\n",
       "      <th>row5</th>\n",
       "      <td>Eva</td>\n",
       "      <td>22</td>\n",
       "      <td>NaN</td>\n",
       "      <td>65000.0</td>\n",
       "    </tr>\n",
       "    <tr>\n",
       "      <th>row6</th>\n",
       "      <td>Mayra</td>\n",
       "      <td>18</td>\n",
       "      <td>Moscow</td>\n",
       "      <td>72000.0</td>\n",
       "    </tr>\n",
       "    <tr>\n",
       "      <th>row7</th>\n",
       "      <td>Priyanka</td>\n",
       "      <td>19</td>\n",
       "      <td>Berlin</td>\n",
       "      <td>80000.0</td>\n",
       "    </tr>\n",
       "  </tbody>\n",
       "</table>\n",
       "</div>"
      ],
      "text/plain": [
       "           Name  Age      City   Salary\n",
       "row1      Alice   25  New York  50000.0\n",
       "row3    Charlie   35     Paris  55000.0\n",
       "row4      David   40  New York  70000.0\n",
       "row5        Eva   22       NaN  65000.0\n",
       "row6      Mayra   18    Moscow  72000.0\n",
       "row7   Priyanka   19    Berlin  80000.0"
      ]
     },
     "execution_count": 72,
     "metadata": {},
     "output_type": "execute_result"
    }
   ],
   "source": [
    "# 75. Drop rows that have less than N valid values: Un rows ko hatayein jinmein 3 se kam valid (non-NaN) data points hon.\n",
    "df.dropna(thresh=3)"
   ]
  },
  {
   "cell_type": "code",
   "execution_count": 74,
   "id": "26b81c65-1788-49d5-a1a3-a6e12499c567",
   "metadata": {},
   "outputs": [
    {
     "data": {
      "text/plain": [
       "row1    50000.0\n",
       "row2    52500.0\n",
       "row3    55000.0\n",
       "row4    70000.0\n",
       "row5    65000.0\n",
       "row6    72000.0\n",
       "row7    80000.0\n",
       "Name: Salary, dtype: float64"
      ]
     },
     "execution_count": 74,
     "metadata": {},
     "output_type": "execute_result"
    }
   ],
   "source": [
    "# 76. Interpolate missing values: Linear interpolation ka use karke numerical column mein missing values ko fill karein.\n",
    "df['Salary'].interpolate(method='linear')"
   ]
  },
  {
   "cell_type": "code",
   "execution_count": 76,
   "id": "f1b285d1-6674-4e55-a5d7-e667f7695a4c",
   "metadata": {},
   "outputs": [
    {
     "data": {
      "text/html": [
       "<div>\n",
       "<style scoped>\n",
       "    .dataframe tbody tr th:only-of-type {\n",
       "        vertical-align: middle;\n",
       "    }\n",
       "\n",
       "    .dataframe tbody tr th {\n",
       "        vertical-align: top;\n",
       "    }\n",
       "\n",
       "    .dataframe thead th {\n",
       "        text-align: right;\n",
       "    }\n",
       "</style>\n",
       "<table border=\"1\" class=\"dataframe\">\n",
       "  <thead>\n",
       "    <tr style=\"text-align: right;\">\n",
       "      <th></th>\n",
       "      <th>Name</th>\n",
       "      <th>Age</th>\n",
       "      <th>City</th>\n",
       "      <th>Salary</th>\n",
       "    </tr>\n",
       "  </thead>\n",
       "  <tbody>\n",
       "    <tr>\n",
       "      <th>row1</th>\n",
       "      <td>Alice</td>\n",
       "      <td>25</td>\n",
       "      <td>New York</td>\n",
       "      <td>50000.0</td>\n",
       "    </tr>\n",
       "    <tr>\n",
       "      <th>row2</th>\n",
       "      <td>NaN</td>\n",
       "      <td>30</td>\n",
       "      <td>London</td>\n",
       "      <td>NaN</td>\n",
       "    </tr>\n",
       "    <tr>\n",
       "      <th>row3</th>\n",
       "      <td>Charlie</td>\n",
       "      <td>35</td>\n",
       "      <td>Paris</td>\n",
       "      <td>55000.0</td>\n",
       "    </tr>\n",
       "    <tr>\n",
       "      <th>row4</th>\n",
       "      <td>David</td>\n",
       "      <td>40</td>\n",
       "      <td>New York</td>\n",
       "      <td>70000.0</td>\n",
       "    </tr>\n",
       "    <tr>\n",
       "      <th>row5</th>\n",
       "      <td>Eva</td>\n",
       "      <td>22</td>\n",
       "      <td>Unknown</td>\n",
       "      <td>65000.0</td>\n",
       "    </tr>\n",
       "    <tr>\n",
       "      <th>row6</th>\n",
       "      <td>Mayra</td>\n",
       "      <td>18</td>\n",
       "      <td>Moscow</td>\n",
       "      <td>72000.0</td>\n",
       "    </tr>\n",
       "    <tr>\n",
       "      <th>row7</th>\n",
       "      <td>Priyanka</td>\n",
       "      <td>19</td>\n",
       "      <td>Berlin</td>\n",
       "      <td>80000.0</td>\n",
       "    </tr>\n",
       "  </tbody>\n",
       "</table>\n",
       "</div>"
      ],
      "text/plain": [
       "           Name  Age      City   Salary\n",
       "row1      Alice   25  New York  50000.0\n",
       "row2        NaN   30    London      NaN\n",
       "row3    Charlie   35     Paris  55000.0\n",
       "row4      David   40  New York  70000.0\n",
       "row5        Eva   22   Unknown  65000.0\n",
       "row6      Mayra   18    Moscow  72000.0\n",
       "row7   Priyanka   19    Berlin  80000.0"
      ]
     },
     "execution_count": 76,
     "metadata": {},
     "output_type": "execute_result"
    }
   ],
   "source": [
    "# 77. Fill NaN in one column based on another: 'City' column mein NaN ko 'Unknown' se fill karein.\n",
    "df['City']=df['City'].fillna('Unknown')\n",
    "df"
   ]
  },
  {
   "cell_type": "code",
   "execution_count": 77,
   "id": "354f30fa-07c2-4c84-b76e-8ed6273581f3",
   "metadata": {},
   "outputs": [
    {
     "data": {
      "text/html": [
       "<div>\n",
       "<style scoped>\n",
       "    .dataframe tbody tr th:only-of-type {\n",
       "        vertical-align: middle;\n",
       "    }\n",
       "\n",
       "    .dataframe tbody tr th {\n",
       "        vertical-align: top;\n",
       "    }\n",
       "\n",
       "    .dataframe thead th {\n",
       "        text-align: right;\n",
       "    }\n",
       "</style>\n",
       "<table border=\"1\" class=\"dataframe\">\n",
       "  <thead>\n",
       "    <tr style=\"text-align: right;\">\n",
       "      <th></th>\n",
       "      <th>Name</th>\n",
       "      <th>Age</th>\n",
       "      <th>City</th>\n",
       "      <th>Salary</th>\n",
       "    </tr>\n",
       "  </thead>\n",
       "  <tbody>\n",
       "    <tr>\n",
       "      <th>row1</th>\n",
       "      <td>Alice</td>\n",
       "      <td>25</td>\n",
       "      <td>New York</td>\n",
       "      <td>50000.0</td>\n",
       "    </tr>\n",
       "    <tr>\n",
       "      <th>row3</th>\n",
       "      <td>Charlie</td>\n",
       "      <td>35</td>\n",
       "      <td>Paris</td>\n",
       "      <td>55000.0</td>\n",
       "    </tr>\n",
       "    <tr>\n",
       "      <th>row4</th>\n",
       "      <td>David</td>\n",
       "      <td>40</td>\n",
       "      <td>New York</td>\n",
       "      <td>70000.0</td>\n",
       "    </tr>\n",
       "    <tr>\n",
       "      <th>row5</th>\n",
       "      <td>Eva</td>\n",
       "      <td>22</td>\n",
       "      <td>Unknown</td>\n",
       "      <td>65000.0</td>\n",
       "    </tr>\n",
       "    <tr>\n",
       "      <th>row6</th>\n",
       "      <td>Mayra</td>\n",
       "      <td>18</td>\n",
       "      <td>Moscow</td>\n",
       "      <td>72000.0</td>\n",
       "    </tr>\n",
       "    <tr>\n",
       "      <th>row7</th>\n",
       "      <td>Priyanka</td>\n",
       "      <td>19</td>\n",
       "      <td>Berlin</td>\n",
       "      <td>80000.0</td>\n",
       "    </tr>\n",
       "  </tbody>\n",
       "</table>\n",
       "</div>"
      ],
      "text/plain": [
       "           Name  Age      City   Salary\n",
       "row1      Alice   25  New York  50000.0\n",
       "row3    Charlie   35     Paris  55000.0\n",
       "row4      David   40  New York  70000.0\n",
       "row5        Eva   22   Unknown  65000.0\n",
       "row6      Mayra   18    Moscow  72000.0\n",
       "row7   Priyanka   19    Berlin  80000.0"
      ]
     },
     "execution_count": 77,
     "metadata": {},
     "output_type": "execute_result"
    }
   ],
   "source": [
    "# 78. Select rows that do not have missing values in a specific column: 'Salary' column se NaN waali rows ko chhodkar baaki sab select karein.\n",
    "df[df['Salary'].notnull()]"
   ]
  },
  {
   "cell_type": "code",
   "execution_count": 79,
   "id": "f6fdb738-f07b-4080-945d-e2737b9e1fd0",
   "metadata": {},
   "outputs": [
    {
     "data": {
      "text/html": [
       "<div>\n",
       "<style scoped>\n",
       "    .dataframe tbody tr th:only-of-type {\n",
       "        vertical-align: middle;\n",
       "    }\n",
       "\n",
       "    .dataframe tbody tr th {\n",
       "        vertical-align: top;\n",
       "    }\n",
       "\n",
       "    .dataframe thead th {\n",
       "        text-align: right;\n",
       "    }\n",
       "</style>\n",
       "<table border=\"1\" class=\"dataframe\">\n",
       "  <thead>\n",
       "    <tr style=\"text-align: right;\">\n",
       "      <th></th>\n",
       "      <th>Name</th>\n",
       "      <th>Age</th>\n",
       "      <th>City</th>\n",
       "      <th>Salary</th>\n",
       "    </tr>\n",
       "  </thead>\n",
       "  <tbody>\n",
       "    <tr>\n",
       "      <th>row1</th>\n",
       "      <td>Alice</td>\n",
       "      <td>25</td>\n",
       "      <td>New York</td>\n",
       "      <td>50000.0</td>\n",
       "    </tr>\n",
       "    <tr>\n",
       "      <th>row2</th>\n",
       "      <td>NaN</td>\n",
       "      <td>30</td>\n",
       "      <td>London</td>\n",
       "      <td>NaN</td>\n",
       "    </tr>\n",
       "    <tr>\n",
       "      <th>row3</th>\n",
       "      <td>Charlie</td>\n",
       "      <td>35</td>\n",
       "      <td>Paris</td>\n",
       "      <td>55000.0</td>\n",
       "    </tr>\n",
       "    <tr>\n",
       "      <th>row4</th>\n",
       "      <td>David</td>\n",
       "      <td>40</td>\n",
       "      <td>New York</td>\n",
       "      <td>70000.0</td>\n",
       "    </tr>\n",
       "    <tr>\n",
       "      <th>row5</th>\n",
       "      <td>Eva</td>\n",
       "      <td>22</td>\n",
       "      <td>NaN</td>\n",
       "      <td>65000.0</td>\n",
       "    </tr>\n",
       "    <tr>\n",
       "      <th>row6</th>\n",
       "      <td>Mayra</td>\n",
       "      <td>18</td>\n",
       "      <td>Moscow</td>\n",
       "      <td>72000.0</td>\n",
       "    </tr>\n",
       "    <tr>\n",
       "      <th>row7</th>\n",
       "      <td>Priyanka</td>\n",
       "      <td>19</td>\n",
       "      <td>Berlin</td>\n",
       "      <td>80000.0</td>\n",
       "    </tr>\n",
       "  </tbody>\n",
       "</table>\n",
       "</div>"
      ],
      "text/plain": [
       "           Name  Age      City   Salary\n",
       "row1      Alice   25  New York  50000.0\n",
       "row2        NaN   30    London      NaN\n",
       "row3    Charlie   35     Paris  55000.0\n",
       "row4      David   40  New York  70000.0\n",
       "row5        Eva   22       NaN  65000.0\n",
       "row6      Mayra   18    Moscow  72000.0\n",
       "row7   Priyanka   19    Berlin  80000.0"
      ]
     },
     "execution_count": 79,
     "metadata": {},
     "output_type": "execute_result"
    }
   ],
   "source": [
    "# 79. Replace a specific value with NaN: 'City' column mein jahan bhi 'Unknown' likha hai, use NaN se replace karein.\n",
    "df['City']=df['City'].replace('Unknown', np.nan)\n",
    "df"
   ]
  },
  {
   "cell_type": "code",
   "execution_count": 80,
   "id": "8660ab4e-3636-4f5a-95a4-e30031588a1b",
   "metadata": {},
   "outputs": [
    {
     "data": {
      "text/html": [
       "<div>\n",
       "<style scoped>\n",
       "    .dataframe tbody tr th:only-of-type {\n",
       "        vertical-align: middle;\n",
       "    }\n",
       "\n",
       "    .dataframe tbody tr th {\n",
       "        vertical-align: top;\n",
       "    }\n",
       "\n",
       "    .dataframe thead th {\n",
       "        text-align: right;\n",
       "    }\n",
       "</style>\n",
       "<table border=\"1\" class=\"dataframe\">\n",
       "  <thead>\n",
       "    <tr style=\"text-align: right;\">\n",
       "      <th></th>\n",
       "      <th>Name</th>\n",
       "      <th>Age</th>\n",
       "      <th>City</th>\n",
       "      <th>Salary</th>\n",
       "    </tr>\n",
       "  </thead>\n",
       "  <tbody>\n",
       "    <tr>\n",
       "      <th>row1</th>\n",
       "      <td>Alice</td>\n",
       "      <td>25</td>\n",
       "      <td>New York</td>\n",
       "      <td>50000.0</td>\n",
       "    </tr>\n",
       "    <tr>\n",
       "      <th>row2</th>\n",
       "      <td>NaN</td>\n",
       "      <td>30</td>\n",
       "      <td>London</td>\n",
       "      <td>NaN</td>\n",
       "    </tr>\n",
       "    <tr>\n",
       "      <th>row3</th>\n",
       "      <td>Charlie</td>\n",
       "      <td>35</td>\n",
       "      <td>Paris</td>\n",
       "      <td>55000.0</td>\n",
       "    </tr>\n",
       "    <tr>\n",
       "      <th>row4</th>\n",
       "      <td>David</td>\n",
       "      <td>40</td>\n",
       "      <td>New York</td>\n",
       "      <td>70000.0</td>\n",
       "    </tr>\n",
       "    <tr>\n",
       "      <th>row5</th>\n",
       "      <td>Eva</td>\n",
       "      <td>22</td>\n",
       "      <td>N/A</td>\n",
       "      <td>65000.0</td>\n",
       "    </tr>\n",
       "    <tr>\n",
       "      <th>row6</th>\n",
       "      <td>Mayra</td>\n",
       "      <td>18</td>\n",
       "      <td>Moscow</td>\n",
       "      <td>72000.0</td>\n",
       "    </tr>\n",
       "    <tr>\n",
       "      <th>row7</th>\n",
       "      <td>Priyanka</td>\n",
       "      <td>19</td>\n",
       "      <td>Berlin</td>\n",
       "      <td>80000.0</td>\n",
       "    </tr>\n",
       "  </tbody>\n",
       "</table>\n",
       "</div>"
      ],
      "text/plain": [
       "           Name  Age      City   Salary\n",
       "row1      Alice   25  New York  50000.0\n",
       "row2        NaN   30    London      NaN\n",
       "row3    Charlie   35     Paris  55000.0\n",
       "row4      David   40  New York  70000.0\n",
       "row5        Eva   22       N/A  65000.0\n",
       "row6      Mayra   18    Moscow  72000.0\n",
       "row7   Priyanka   19    Berlin  80000.0"
      ]
     },
     "execution_count": 80,
     "metadata": {},
     "output_type": "execute_result"
    }
   ],
   "source": [
    "# 80. Fill missing values differently for each column: Ek dictionary ka use karke 'Age' ke NaN ko 0 se aur 'City' ke NaN ko 'N/A' se fill karein.\n",
    "df.fillna({'Age':0,'City':'N/A'})"
   ]
  }
 ],
 "metadata": {
  "kernelspec": {
   "display_name": "Python 3 (ipykernel)",
   "language": "python",
   "name": "python3"
  },
  "language_info": {
   "codemirror_mode": {
    "name": "ipython",
    "version": 3
   },
   "file_extension": ".py",
   "mimetype": "text/x-python",
   "name": "python",
   "nbconvert_exporter": "python",
   "pygments_lexer": "ipython3",
   "version": "3.12.7"
  }
 },
 "nbformat": 4,
 "nbformat_minor": 5
}
