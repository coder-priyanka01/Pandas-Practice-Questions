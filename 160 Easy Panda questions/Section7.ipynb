{
 "cells": [
  {
   "cell_type": "markdown",
   "id": "c2c06045-f516-4129-b915-f9417d1622e5",
   "metadata": {},
   "source": [
    "## Simple Operations & Calculations "
   ]
  },
  {
   "cell_type": "code",
   "execution_count": 48,
   "id": "39058be7-2fa9-4370-8f82-32d705817c1c",
   "metadata": {},
   "outputs": [
    {
     "name": "stdout",
     "output_type": "stream",
     "text": [
      "           Name  Age      City   Salary  Neg_col\n",
      "row1      Alice   25  New York  50000.0      -12\n",
      "row2        NaN   30    London      NaN      -34\n",
      "row3    Charlie   35     Paris  55000.0      -45\n",
      "row4      David   40  New York  70000.0      -56\n",
      "row5        Eva   22       NaN  65000.0      -67\n",
      "row6      Mayra   18    Moscow  72000.0      -78\n",
      "row7   Priyanka   19    Berlin  80000.0      -89\n"
     ]
    }
   ],
   "source": [
    "import pandas as pd\n",
    "import numpy as np\n",
    "\n",
    "# Base DataFrame\n",
    "data = {\n",
    "    'Name': ['Alice', np.nan, 'Charlie', 'David', 'Eva', 'Mayra',' Priyanka'],\n",
    "    'Age': [25, 30, 35, 40, 22, 18, 19],\n",
    "    'City': ['New York', 'London', 'Paris', 'New York', np.nan, 'Moscow', 'Berlin'],\n",
    "    'Salary': [50000, np.nan, 55000, 70000, 65000, 72000, 80000],\n",
    "    'Neg_col' : [-12, -34, -45, -56, -67 ,-78, -89]\n",
    "}\n",
    "df = pd.DataFrame(data, index=['row1', 'row2', 'row3', 'row4', 'row5', 'row6','row7'])\n",
    "print(df)"
   ]
  },
  {
   "cell_type": "code",
   "execution_count": 49,
   "id": "5cc78652-93b3-4f44-91c1-1652d1f89170",
   "metadata": {},
   "outputs": [
    {
     "data": {
      "text/plain": [
       "392000.0"
      ]
     },
     "execution_count": 49,
     "metadata": {},
     "output_type": "execute_result"
    }
   ],
   "source": [
    "# 81. Sum of a column: 'Salary' column ka total sum calculate karein. \n",
    "df['Salary'].sum()"
   ]
  },
  {
   "cell_type": "code",
   "execution_count": 50,
   "id": "93e4699f-b179-4983-ae6d-aa609670ee70",
   "metadata": {},
   "outputs": [
    {
     "data": {
      "text/plain": [
       "27.0"
      ]
     },
     "execution_count": 50,
     "metadata": {},
     "output_type": "execute_result"
    }
   ],
   "source": [
    "# 82. Mean of a column: 'Age' column ka mean nikalen.\n",
    "df['Age'].mean()"
   ]
  },
  {
   "cell_type": "code",
   "execution_count": 51,
   "id": "8ebffe76-e4e3-4cee-ab41-d3348b8e096b",
   "metadata": {},
   "outputs": [
    {
     "data": {
      "text/plain": [
       "80000.0"
      ]
     },
     "execution_count": 51,
     "metadata": {},
     "output_type": "execute_result"
    }
   ],
   "source": [
    "# 83. Maximum value in a column: 'Salary' column ki sabse badi value pata karein.\n",
    "df['Salary'].max()"
   ]
  },
  {
   "cell_type": "code",
   "execution_count": 52,
   "id": "7dc470f5-bbac-49b9-8285-5287b494137c",
   "metadata": {},
   "outputs": [
    {
     "data": {
      "text/plain": [
       "18"
      ]
     },
     "execution_count": 52,
     "metadata": {},
     "output_type": "execute_result"
    }
   ],
   "source": [
    "# 84. Minimum value in a column: 'Age' column ki sabse choti value pata karein. \n",
    "df['Age'].min()"
   ]
  },
  {
   "cell_type": "code",
   "execution_count": 53,
   "id": "43ba603e-09fc-4e6f-9a6e-39f253866354",
   "metadata": {},
   "outputs": [
    {
     "data": {
      "text/plain": [
       "6"
      ]
     },
     "execution_count": 53,
     "metadata": {},
     "output_type": "execute_result"
    }
   ],
   "source": [
    "# 85. Count non-NA cells: 'City' column mein non-null values ki ginti karein. \n",
    "df['City'].count()"
   ]
  },
  {
   "cell_type": "code",
   "execution_count": 54,
   "id": "87adfa27-3955-4798-b82c-14bd7aad16ae",
   "metadata": {},
   "outputs": [
    {
     "data": {
      "text/plain": [
       "City\n",
       "New York    2\n",
       "London      1\n",
       "Paris       1\n",
       "Moscow      1\n",
       "Berlin      1\n",
       "Name: count, dtype: int64"
      ]
     },
     "execution_count": 54,
     "metadata": {},
     "output_type": "execute_result"
    }
   ],
   "source": [
    "# 86. Calculate value counts: 'City' column mein har city kitni baar aayi hai, uski ginti karein.\n",
    "df['City'].value_counts()"
   ]
  },
  {
   "cell_type": "code",
   "execution_count": 55,
   "id": "2a010ee5-6efa-4aa1-a0dc-e484c7ab0c92",
   "metadata": {},
   "outputs": [
    {
     "data": {
      "text/plain": [
       "City\n",
       "New York    33.333333\n",
       "London      16.666667\n",
       "Paris       16.666667\n",
       "Moscow      16.666667\n",
       "Berlin      16.666667\n",
       "Name: proportion, dtype: float64"
      ]
     },
     "execution_count": 55,
     "metadata": {},
     "output_type": "execute_result"
    }
   ],
   "source": [
    "# 87. Calculate value counts with percentages: Upar wale question ki tarah, lekin is baar percentage bhi show karein.\n",
    "df['City'].value_counts(normalize=True).mul(100)"
   ]
  },
  {
   "cell_type": "code",
   "execution_count": 56,
   "id": "c36e59e1-301c-47d1-b1dd-554b18a8ab30",
   "metadata": {},
   "outputs": [
    {
     "data": {
      "text/plain": [
       "row1    50025.0\n",
       "row2        NaN\n",
       "row3    55035.0\n",
       "row4    70040.0\n",
       "row5    65022.0\n",
       "row6    72018.0\n",
       "row7    80019.0\n",
       "dtype: float64"
      ]
     },
     "execution_count": 56,
     "metadata": {},
     "output_type": "execute_result"
    }
   ],
   "source": [
    "# 88. Element-wise addition: DataFrame ke do numerical columns ko aapas mein jodein.\n",
    "df['Age'] + df['Salary']"
   ]
  },
  {
   "cell_type": "code",
   "execution_count": 57,
   "id": "9a8eff9b-7ca7-4311-bbc1-189f9cde3e13",
   "metadata": {},
   "outputs": [
    {
     "data": {
      "text/plain": [
       "row1    50\n",
       "row2    60\n",
       "row3    70\n",
       "row4    80\n",
       "row5    44\n",
       "row6    36\n",
       "row7    38\n",
       "Name: Age, dtype: int64"
      ]
     },
     "execution_count": 57,
     "metadata": {},
     "output_type": "execute_result"
    }
   ],
   "source": [
    "# 89. Scalar multiplication: 'Age' column ke har value ko 2 se multiply karein. \n",
    "df['Age'] * 2"
   ]
  },
  {
   "cell_type": "code",
   "execution_count": 58,
   "id": "da173225-2d27-4519-9c9b-dcf43215546e",
   "metadata": {},
   "outputs": [
    {
     "data": {
      "text/html": [
       "<div>\n",
       "<style scoped>\n",
       "    .dataframe tbody tr th:only-of-type {\n",
       "        vertical-align: middle;\n",
       "    }\n",
       "\n",
       "    .dataframe tbody tr th {\n",
       "        vertical-align: top;\n",
       "    }\n",
       "\n",
       "    .dataframe thead th {\n",
       "        text-align: right;\n",
       "    }\n",
       "</style>\n",
       "<table border=\"1\" class=\"dataframe\">\n",
       "  <thead>\n",
       "    <tr style=\"text-align: right;\">\n",
       "      <th></th>\n",
       "      <th>Name</th>\n",
       "      <th>Age</th>\n",
       "      <th>City</th>\n",
       "      <th>Salary</th>\n",
       "      <th>Neg_col</th>\n",
       "    </tr>\n",
       "  </thead>\n",
       "  <tbody>\n",
       "    <tr>\n",
       "      <th>row1</th>\n",
       "      <td>ALICE</td>\n",
       "      <td>25</td>\n",
       "      <td>New York</td>\n",
       "      <td>50000.0</td>\n",
       "      <td>-12</td>\n",
       "    </tr>\n",
       "    <tr>\n",
       "      <th>row2</th>\n",
       "      <td>NaN</td>\n",
       "      <td>30</td>\n",
       "      <td>London</td>\n",
       "      <td>NaN</td>\n",
       "      <td>-34</td>\n",
       "    </tr>\n",
       "    <tr>\n",
       "      <th>row3</th>\n",
       "      <td>CHARLIE</td>\n",
       "      <td>35</td>\n",
       "      <td>Paris</td>\n",
       "      <td>55000.0</td>\n",
       "      <td>-45</td>\n",
       "    </tr>\n",
       "    <tr>\n",
       "      <th>row4</th>\n",
       "      <td>DAVID</td>\n",
       "      <td>40</td>\n",
       "      <td>New York</td>\n",
       "      <td>70000.0</td>\n",
       "      <td>-56</td>\n",
       "    </tr>\n",
       "    <tr>\n",
       "      <th>row5</th>\n",
       "      <td>EVA</td>\n",
       "      <td>22</td>\n",
       "      <td>NaN</td>\n",
       "      <td>65000.0</td>\n",
       "      <td>-67</td>\n",
       "    </tr>\n",
       "    <tr>\n",
       "      <th>row6</th>\n",
       "      <td>MAYRA</td>\n",
       "      <td>18</td>\n",
       "      <td>Moscow</td>\n",
       "      <td>72000.0</td>\n",
       "      <td>-78</td>\n",
       "    </tr>\n",
       "    <tr>\n",
       "      <th>row7</th>\n",
       "      <td>PRIYANKA</td>\n",
       "      <td>19</td>\n",
       "      <td>Berlin</td>\n",
       "      <td>80000.0</td>\n",
       "      <td>-89</td>\n",
       "    </tr>\n",
       "  </tbody>\n",
       "</table>\n",
       "</div>"
      ],
      "text/plain": [
       "           Name  Age      City   Salary  Neg_col\n",
       "row1      ALICE   25  New York  50000.0      -12\n",
       "row2        NaN   30    London      NaN      -34\n",
       "row3    CHARLIE   35     Paris  55000.0      -45\n",
       "row4      DAVID   40  New York  70000.0      -56\n",
       "row5        EVA   22       NaN  65000.0      -67\n",
       "row6      MAYRA   18    Moscow  72000.0      -78\n",
       "row7   PRIYANKA   19    Berlin  80000.0      -89"
      ]
     },
     "execution_count": 58,
     "metadata": {},
     "output_type": "execute_result"
    }
   ],
   "source": [
    "# 90. Convert strings to uppercase: 'Name' column ke sabhi strings ko uppercase mein convert karein.\n",
    "df['Name']=df['Name'].str.upper()\n",
    "df"
   ]
  },
  {
   "cell_type": "code",
   "execution_count": 59,
   "id": "7444d0fb-1030-4b18-b4a2-be075dd96505",
   "metadata": {},
   "outputs": [
    {
     "data": {
      "text/html": [
       "<div>\n",
       "<style scoped>\n",
       "    .dataframe tbody tr th:only-of-type {\n",
       "        vertical-align: middle;\n",
       "    }\n",
       "\n",
       "    .dataframe tbody tr th {\n",
       "        vertical-align: top;\n",
       "    }\n",
       "\n",
       "    .dataframe thead th {\n",
       "        text-align: right;\n",
       "    }\n",
       "</style>\n",
       "<table border=\"1\" class=\"dataframe\">\n",
       "  <thead>\n",
       "    <tr style=\"text-align: right;\">\n",
       "      <th></th>\n",
       "      <th>Name</th>\n",
       "      <th>Age</th>\n",
       "      <th>City</th>\n",
       "      <th>Salary</th>\n",
       "      <th>Neg_col</th>\n",
       "    </tr>\n",
       "  </thead>\n",
       "  <tbody>\n",
       "    <tr>\n",
       "      <th>row1</th>\n",
       "      <td>ALICE</td>\n",
       "      <td>25</td>\n",
       "      <td>new york</td>\n",
       "      <td>50000.0</td>\n",
       "      <td>-12</td>\n",
       "    </tr>\n",
       "    <tr>\n",
       "      <th>row2</th>\n",
       "      <td>NaN</td>\n",
       "      <td>30</td>\n",
       "      <td>london</td>\n",
       "      <td>NaN</td>\n",
       "      <td>-34</td>\n",
       "    </tr>\n",
       "    <tr>\n",
       "      <th>row3</th>\n",
       "      <td>CHARLIE</td>\n",
       "      <td>35</td>\n",
       "      <td>paris</td>\n",
       "      <td>55000.0</td>\n",
       "      <td>-45</td>\n",
       "    </tr>\n",
       "    <tr>\n",
       "      <th>row4</th>\n",
       "      <td>DAVID</td>\n",
       "      <td>40</td>\n",
       "      <td>new york</td>\n",
       "      <td>70000.0</td>\n",
       "      <td>-56</td>\n",
       "    </tr>\n",
       "    <tr>\n",
       "      <th>row5</th>\n",
       "      <td>EVA</td>\n",
       "      <td>22</td>\n",
       "      <td>NaN</td>\n",
       "      <td>65000.0</td>\n",
       "      <td>-67</td>\n",
       "    </tr>\n",
       "    <tr>\n",
       "      <th>row6</th>\n",
       "      <td>MAYRA</td>\n",
       "      <td>18</td>\n",
       "      <td>moscow</td>\n",
       "      <td>72000.0</td>\n",
       "      <td>-78</td>\n",
       "    </tr>\n",
       "    <tr>\n",
       "      <th>row7</th>\n",
       "      <td>PRIYANKA</td>\n",
       "      <td>19</td>\n",
       "      <td>berlin</td>\n",
       "      <td>80000.0</td>\n",
       "      <td>-89</td>\n",
       "    </tr>\n",
       "  </tbody>\n",
       "</table>\n",
       "</div>"
      ],
      "text/plain": [
       "           Name  Age      City   Salary  Neg_col\n",
       "row1      ALICE   25  new york  50000.0      -12\n",
       "row2        NaN   30    london      NaN      -34\n",
       "row3    CHARLIE   35     paris  55000.0      -45\n",
       "row4      DAVID   40  new york  70000.0      -56\n",
       "row5        EVA   22       NaN  65000.0      -67\n",
       "row6      MAYRA   18    moscow  72000.0      -78\n",
       "row7   PRIYANKA   19    berlin  80000.0      -89"
      ]
     },
     "execution_count": 59,
     "metadata": {},
     "output_type": "execute_result"
    }
   ],
   "source": [
    "# 91. Convert strings to lowercase: 'City' column ke sabhi strings ko lowercase mein convert karein.\n",
    "df['City']=df['City'].str.lower()\n",
    "df"
   ]
  },
  {
   "cell_type": "code",
   "execution_count": 60,
   "id": "d49a93f5-de5e-4869-8fb1-30dcd066b8ff",
   "metadata": {},
   "outputs": [
    {
     "data": {
      "text/html": [
       "<div>\n",
       "<style scoped>\n",
       "    .dataframe tbody tr th:only-of-type {\n",
       "        vertical-align: middle;\n",
       "    }\n",
       "\n",
       "    .dataframe tbody tr th {\n",
       "        vertical-align: top;\n",
       "    }\n",
       "\n",
       "    .dataframe thead th {\n",
       "        text-align: right;\n",
       "    }\n",
       "</style>\n",
       "<table border=\"1\" class=\"dataframe\">\n",
       "  <thead>\n",
       "    <tr style=\"text-align: right;\">\n",
       "      <th></th>\n",
       "      <th>Name</th>\n",
       "      <th>Age</th>\n",
       "      <th>City</th>\n",
       "      <th>Salary</th>\n",
       "      <th>Neg_col</th>\n",
       "      <th>Name_length</th>\n",
       "    </tr>\n",
       "  </thead>\n",
       "  <tbody>\n",
       "    <tr>\n",
       "      <th>row1</th>\n",
       "      <td>ALICE</td>\n",
       "      <td>25</td>\n",
       "      <td>new york</td>\n",
       "      <td>50000.0</td>\n",
       "      <td>-12</td>\n",
       "      <td>5.0</td>\n",
       "    </tr>\n",
       "    <tr>\n",
       "      <th>row2</th>\n",
       "      <td>NaN</td>\n",
       "      <td>30</td>\n",
       "      <td>london</td>\n",
       "      <td>NaN</td>\n",
       "      <td>-34</td>\n",
       "      <td>NaN</td>\n",
       "    </tr>\n",
       "    <tr>\n",
       "      <th>row3</th>\n",
       "      <td>CHARLIE</td>\n",
       "      <td>35</td>\n",
       "      <td>paris</td>\n",
       "      <td>55000.0</td>\n",
       "      <td>-45</td>\n",
       "      <td>7.0</td>\n",
       "    </tr>\n",
       "    <tr>\n",
       "      <th>row4</th>\n",
       "      <td>DAVID</td>\n",
       "      <td>40</td>\n",
       "      <td>new york</td>\n",
       "      <td>70000.0</td>\n",
       "      <td>-56</td>\n",
       "      <td>5.0</td>\n",
       "    </tr>\n",
       "    <tr>\n",
       "      <th>row5</th>\n",
       "      <td>EVA</td>\n",
       "      <td>22</td>\n",
       "      <td>NaN</td>\n",
       "      <td>65000.0</td>\n",
       "      <td>-67</td>\n",
       "      <td>3.0</td>\n",
       "    </tr>\n",
       "    <tr>\n",
       "      <th>row6</th>\n",
       "      <td>MAYRA</td>\n",
       "      <td>18</td>\n",
       "      <td>moscow</td>\n",
       "      <td>72000.0</td>\n",
       "      <td>-78</td>\n",
       "      <td>5.0</td>\n",
       "    </tr>\n",
       "    <tr>\n",
       "      <th>row7</th>\n",
       "      <td>PRIYANKA</td>\n",
       "      <td>19</td>\n",
       "      <td>berlin</td>\n",
       "      <td>80000.0</td>\n",
       "      <td>-89</td>\n",
       "      <td>9.0</td>\n",
       "    </tr>\n",
       "  </tbody>\n",
       "</table>\n",
       "</div>"
      ],
      "text/plain": [
       "           Name  Age      City   Salary  Neg_col  Name_length\n",
       "row1      ALICE   25  new york  50000.0      -12          5.0\n",
       "row2        NaN   30    london      NaN      -34          NaN\n",
       "row3    CHARLIE   35     paris  55000.0      -45          7.0\n",
       "row4      DAVID   40  new york  70000.0      -56          5.0\n",
       "row5        EVA   22       NaN  65000.0      -67          3.0\n",
       "row6      MAYRA   18    moscow  72000.0      -78          5.0\n",
       "row7   PRIYANKA   19    berlin  80000.0      -89          9.0"
      ]
     },
     "execution_count": 60,
     "metadata": {},
     "output_type": "execute_result"
    }
   ],
   "source": [
    "# 92. Find the length of strings: 'Name' column ke har naam ki length nikal kar ek naya column banayein.\n",
    "df['Name_length']=df['Name'].str.len()\n",
    "df"
   ]
  },
  {
   "cell_type": "code",
   "execution_count": 61,
   "id": "37bf8bad-aab4-4afe-9cb1-685e6784e34e",
   "metadata": {},
   "outputs": [
    {
     "data": {
      "text/plain": [
       "row1     50000.0\n",
       "row2         NaN\n",
       "row3    105000.0\n",
       "row4    175000.0\n",
       "row5    240000.0\n",
       "row6    312000.0\n",
       "row7    392000.0\n",
       "Name: Salary, dtype: float64"
      ]
     },
     "execution_count": 61,
     "metadata": {},
     "output_type": "execute_result"
    }
   ],
   "source": [
    "# 93. Get the cumulative sum: 'Salary' column ka cumulative sum (har row par judte hue) calculate karein.\n",
    "df['Salary'].cumsum()"
   ]
  },
  {
   "cell_type": "code",
   "execution_count": 62,
   "id": "35ea8f8f-7184-4427-8abc-3983ad4a845c",
   "metadata": {},
   "outputs": [
    {
     "data": {
      "text/plain": [
       "7.2072000000000004e+28"
      ]
     },
     "execution_count": 62,
     "metadata": {},
     "output_type": "execute_result"
    }
   ],
   "source": [
    "# 94. Find the product of all items: Ek numerical column ke sabhi items ka product nikalen.\n",
    "df['Salary'].prod()"
   ]
  },
  {
   "cell_type": "code",
   "execution_count": 63,
   "id": "46855f44-c7fd-4c41-944a-86cc200f633a",
   "metadata": {},
   "outputs": [
    {
     "data": {
      "text/plain": [
       "'row7'"
      ]
     },
     "execution_count": 63,
     "metadata": {},
     "output_type": "execute_result"
    }
   ],
   "source": [
    "#95. Find the index of the maximum value: 'Salary' column mein maximum value ka index label kya hai, yeh pata karein.\n",
    "df['Salary'].idxmax()"
   ]
  },
  {
   "cell_type": "code",
   "execution_count": 64,
   "id": "1b928cdd-4644-4d61-bcdd-ae29662473f7",
   "metadata": {},
   "outputs": [
    {
     "data": {
      "text/plain": [
       "'row6'"
      ]
     },
     "execution_count": 64,
     "metadata": {},
     "output_type": "execute_result"
    }
   ],
   "source": [
    "# 96. Find the index of the minimum value: 'Age' column mein minimum value ka index label kya hai, yeh pata karein.\n",
    "df['Age'].idxmin()"
   ]
  },
  {
   "cell_type": "code",
   "execution_count": 65,
   "id": "6b431487-bbc4-4769-92b6-31851363a019",
   "metadata": {},
   "outputs": [
    {
     "data": {
      "text/plain": [
       "row1    50000.0\n",
       "row2        NaN\n",
       "row3    55000.0\n",
       "row4    70000.0\n",
       "row5    65000.0\n",
       "row6    72000.0\n",
       "row7    80000.0\n",
       "Name: Salary, dtype: float64"
      ]
     },
     "execution_count": 65,
     "metadata": {},
     "output_type": "execute_result"
    }
   ],
   "source": [
    "# 97. Round values in a column: Ek float column ke values ko 2 decimal places tak round off karein.\n",
    "df['Salary'].round(2)"
   ]
  },
  {
   "cell_type": "code",
   "execution_count": 68,
   "id": "f1821e00-9840-4c88-ae6e-9871293d8df1",
   "metadata": {},
   "outputs": [
    {
     "data": {
      "text/plain": [
       "row1    12\n",
       "row2    34\n",
       "row3    45\n",
       "row4    56\n",
       "row5    67\n",
       "row6    78\n",
       "row7    89\n",
       "Name: Neg_col, dtype: int64"
      ]
     },
     "execution_count": 68,
     "metadata": {},
     "output_type": "execute_result"
    }
   ],
   "source": [
    "# 98. Get the absolute value: Ek column jismein negative numbers hain, uske sabhi values ka absolute (positive) value nikalen. \n",
    "df['Neg_col'].abs()"
   ]
  },
  {
   "cell_type": "code",
   "execution_count": 69,
   "id": "aea6347c-0f6f-45fe-8c21-dd526f32b367",
   "metadata": {},
   "outputs": [
    {
     "data": {
      "text/plain": [
       "67500.0"
      ]
     },
     "execution_count": 69,
     "metadata": {},
     "output_type": "execute_result"
    }
   ],
   "source": [
    "# 99. Calculate the median of a column: 'Salary' column ka median calculate karein.\n",
    "df['Salary'].median()"
   ]
  },
  {
   "cell_type": "code",
   "execution_count": 70,
   "id": "ca10bcb1-6413-47a3-8e6c-dd5afc216d3b",
   "metadata": {},
   "outputs": [
    {
     "data": {
      "text/plain": [
       "6"
      ]
     },
     "execution_count": 70,
     "metadata": {},
     "output_type": "execute_result"
    }
   ],
   "source": [
    "# 100. Check for string containment: Pata karein ki 'Name' column mein 'A' letter kitne naamo mein aata hai.\n",
    "df['Name'].str.contains('A').sum()"
   ]
  }
 ],
 "metadata": {
  "kernelspec": {
   "display_name": "Python 3 (ipykernel)",
   "language": "python",
   "name": "python3"
  },
  "language_info": {
   "codemirror_mode": {
    "name": "ipython",
    "version": 3
   },
   "file_extension": ".py",
   "mimetype": "text/x-python",
   "name": "python",
   "nbconvert_exporter": "python",
   "pygments_lexer": "ipython3",
   "version": "3.12.7"
  }
 },
 "nbformat": 4,
 "nbformat_minor": 5
}
